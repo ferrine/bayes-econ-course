{
 "cells": [
  {
   "cell_type": "markdown",
   "id": "cdbb9022-468c-4f03-b85f-dfe0532f92fa",
   "metadata": {},
   "source": [
    "# Bayesian models"
   ]
  },
  {
   "cell_type": "markdown",
   "id": "17027256-f66f-4e22-ad4c-1893d70ad17d",
   "metadata": {},
   "source": [
    "In this seminar:\n",
    "\n",
    "* Make sure all the dependencies are installed and work fine for you\n",
    "* Look into the lecture example"
   ]
  },
  {
   "cell_type": "markdown",
   "id": "15508b0f-c9ee-4c73-80cd-ca46c74b4849",
   "metadata": {},
   "source": [
    "## Installation\n",
    "1. Install [Anaconda](https://www.anaconda.com/) or [Mamba](https://github.com/mamba-org/mamba)\n",
    "    \n",
    "    * Conda is slow\n",
    "    * Mamba is fast (I use this one)\n",
    "    \n",
    "2. Create an environment for the course\n",
    "\n",
    "```console\n",
    "conda env update -f environment.yaml\n",
    "```\n",
    "\n",
    "You can find the environment file in the root of the repository\n",
    "\n",
    "3. Install jupyter kernel for the course\n",
    "\n",
    "```\n",
    "conda activate bayes-econ\n",
    "python -m ipykernel install --user --name bayes-econ\n",
    "```"
   ]
  },
  {
   "cell_type": "code",
   "execution_count": null,
   "id": "1550c3c5-64fc-434a-820f-f5de405e7d5c",
   "metadata": {},
   "outputs": [],
   "source": [
    "import pymc as pm\n",
    "import arviz as az\n",
    "import numpy as np\n",
    "import pandas as pd\n",
    "import aesara\n",
    "import seaborn as sns\n",
    "import matplotlib.pyplot as plt\n",
    "import h5py\n",
    "import statsmodels.api as sm\n",
    "az.style.use(\"arviz-white\")"
   ]
  },
  {
   "cell_type": "markdown",
   "id": "ea161714-5b87-4e6a-a07e-fa5312278adf",
   "metadata": {},
   "source": [
    "## Example 0 - 8 schools"
   ]
  },
  {
   "cell_type": "code",
   "execution_count": null,
   "id": "2f4fabea-c3b6-45b0-bb42-042f60a352f1",
   "metadata": {},
   "outputs": [],
   "source": [
    "J = 8\n",
    "y = np.array([28, 8, -3, 7, -1, 1, 18, 12])\n",
    "# lower std for better visualizations\n",
    "sigma = np.array([15, 10, 16, 11, 9, 11, 10, 18]) / 2"
   ]
  },
  {
   "cell_type": "markdown",
   "id": "1a2bc97c-ae7c-4210-a15d-2d20ed5899f4",
   "metadata": {},
   "source": [
    "We'll use \n",
    "* `pm.Normal`\n",
    "* `pm.HalfCauchy`"
   ]
  },
  {
   "cell_type": "markdown",
   "id": "8d56152c-b29f-4ae5-8417-cb0165cc9f1c",
   "metadata": {},
   "source": [
    "## Plotting logp"
   ]
  },
  {
   "cell_type": "code",
   "execution_count": null,
   "id": "0b232bf6-2ed9-46eb-9b70-1604df11ab18",
   "metadata": {},
   "outputs": [],
   "source": [
    "..."
   ]
  },
  {
   "cell_type": "markdown",
   "id": "e6cca781-52f0-46f4-b92b-18fd9f4136f3",
   "metadata": {},
   "source": [
    "## The model"
   ]
  },
  {
   "cell_type": "markdown",
   "id": "49337a7d-5bd9-433b-85f4-5b0ebcf137f2",
   "metadata": {},
   "source": [
    "$$\n",
    "\\begin{array}{rcl}\n",
    "            \\text{mu} &\\sim & \\operatorname{N}(0,~5)\\\\\\text{tau} &\\sim & \\operatorname{C^{+}}(0,~5)\\\\\\text{theta}_i &\\sim & \\operatorname{N}(\\text{mu},~\\text{tau})\\\\\\text{obs}_i &\\sim & \\operatorname{N}(\\text{theta},~\\sigma_i)\n",
    "            \\end{array}\n",
    "$$"
   ]
  },
  {
   "cell_type": "code",
   "execution_count": null,
   "id": "72b0a3c7-4208-40b3-9757-61026d3d587f",
   "metadata": {},
   "outputs": [],
   "source": [
    "with pm.Model(coords=dict(J=range(J))) as schools_centered:\n",
    "    mu = ...\n",
    "    tau = ...\n",
    "    theta = ...\n",
    "    obs = ..."
   ]
  },
  {
   "cell_type": "code",
   "execution_count": null,
   "id": "2d81e3cd-fc75-41f9-bda3-595ca225da69",
   "metadata": {},
   "outputs": [],
   "source": [
    "pm.model_to_graphviz(schools_centered)"
   ]
  },
  {
   "cell_type": "code",
   "execution_count": null,
   "id": "fe57b931-0b64-4c2b-92b1-68461463a070",
   "metadata": {},
   "outputs": [],
   "source": [
    "schools_centered"
   ]
  },
  {
   "cell_type": "code",
   "execution_count": null,
   "id": "15bc86f3-01d5-474f-aeab-bfae96b014cd",
   "metadata": {},
   "outputs": [],
   "source": [
    "with schools_centered:\n",
    "    trace = pm.sample()"
   ]
  },
  {
   "cell_type": "code",
   "execution_count": null,
   "id": "41adaa7d-36ff-4c35-8aa3-775960970648",
   "metadata": {},
   "outputs": [],
   "source": [
    "trace"
   ]
  },
  {
   "cell_type": "markdown",
   "id": "cf7f7bae-b84b-43c0-8d9a-399897ed4c12",
   "metadata": {
    "tags": []
   },
   "source": [
    "## Example 1 - Where Do Priors Come From?"
   ]
  },
  {
   "cell_type": "code",
   "execution_count": null,
   "id": "7ca16626-a5d4-4eca-a3fa-283745430096",
   "metadata": {},
   "outputs": [],
   "source": [
    "data = pd.read_csv(\n",
    "    \"https://osf.io/vfjud/download\", \n",
    "    sep=\"\\t\",\n",
    "    names=[\"id\", \"QF\", \"sopt1\", \"sopt2\", \"sopt3\", \"sopt4\", \"cudit1\"], \n",
    "    na_values=\"999\"\n",
    ")"
   ]
  },
  {
   "cell_type": "code",
   "execution_count": null,
   "id": "e0b016b9-892f-49b5-8fc4-663386c48a59",
   "metadata": {},
   "outputs": [],
   "source": [
    "data"
   ]
  },
  {
   "cell_type": "markdown",
   "id": "0985504b-f965-408d-9736-e9ed7ffe0934",
   "metadata": {},
   "source": [
    "> Their \"id\" variable seem to have duplicates"
   ]
  },
  {
   "cell_type": "code",
   "execution_count": null,
   "id": "256a4f26-a8d5-4ca7-a997-c89f25b09568",
   "metadata": {},
   "outputs": [],
   "source": [
    "long_data = (\n",
    "    pd.wide_to_long(data.reset_index(), \"sopt\", \"index\", \"t\")\n",
    "    .reset_index()\n",
    "    .dropna()\n",
    "    .assign(t=lambda df: df.t-1)\n",
    ")\n",
    "long_data"
   ]
  },
  {
   "cell_type": "markdown",
   "id": "3da4167e-7963-4408-aa32-9ba2a61b5a0a",
   "metadata": {},
   "source": [
    "## Visualizing data"
   ]
  },
  {
   "cell_type": "code",
   "execution_count": null,
   "id": "0d130e4f-dcf4-414a-b04e-b4bc31873d6c",
   "metadata": {},
   "outputs": [],
   "source": [
    "data.loc[:, \"sopt1\":\"sopt4\"].T.plot(legend=False, color=\"b\", alpha=0.2);\n",
    "avg = data.loc[:, \"sopt1\":\"sopt4\"].mean().plot(color=\"b\", linestyle=\"--\", lw=4, label=\"avg\")\n",
    "plt.title(\"SOPT scores\")\n",
    "plt.xlabel(\"Tests 1-4\")\n",
    "plt.ylabel(\"Score\");"
   ]
  },
  {
   "cell_type": "markdown",
   "id": "a807c473-7147-411c-9bf2-7492a1e641a0",
   "metadata": {},
   "source": [
    "The data is split by \"CUDIT\" variable which splits heavy and light users"
   ]
  },
  {
   "cell_type": "code",
   "execution_count": null,
   "id": "2fff306c-31e8-4ee4-9fca-13041d2d69eb",
   "metadata": {},
   "outputs": [],
   "source": [
    "ax = data.query(\"cudit1 == 0\").loc[:, \"sopt1\":\"sopt4\"].T.plot(legend=False, color=\"blue\", alpha=0.2);\n",
    "data.query(\"cudit1 == 0\").loc[:, \"sopt1\":\"sopt4\"].mean().plot(color=\"blue\", linestyle=\"--\", lw=4, label=\"avg\", ax=ax)\n",
    "data.query(\"cudit1 == 1\").loc[:, \"sopt1\":\"sopt4\"].T.plot(legend=False, color=\"red\", alpha=1, ax=ax);\n",
    "data.query(\"cudit1 == 1\").loc[:, \"sopt1\":\"sopt4\"].mean().plot(color=\"red\", linestyle=\"--\", lw=4, label=\"avg\", ax=ax)\n",
    "plt.title(\"SOPT scores\")\n",
    "plt.xlabel(\"Tests 1-4\")\n",
    "plt.ylabel(\"Score\");"
   ]
  },
  {
   "cell_type": "markdown",
   "id": "a7a2323f-9da2-42ab-b140-0877e1eef8d9",
   "metadata": {},
   "source": [
    "## The model"
   ]
  },
  {
   "cell_type": "markdown",
   "id": "308adb2e-c833-40e4-8a66-44ad35dffc02",
   "metadata": {},
   "source": [
    "#### Functional form\n",
    "$$\n",
    "\\text{SOPT}_t = a_1 + a_2 * t + a_3 * t ^ 2\n",
    "$$\n",
    "\n",
    "* $a_1$ - intercept\n",
    "* $a_2$ - linear trend\n",
    "* $a_3$ - quadratic term, possible decay in growth\n",
    "* $t$ - $0\\dots 3$, periods where measurement was taken"
   ]
  },
  {
   "cell_type": "markdown",
   "id": "b7c198a1-2c89-493e-a58a-39a4a98a938f",
   "metadata": {},
   "source": [
    "### Priors (by Authors)\n",
    "$$\n",
    "\\begin{align}\n",
    "\\text{SOPT}_t &\\sim \\operatorname{Normal}(a_1 + a_2 * t + a_3 * t ^ 2, \\sigma)\\\\\n",
    "a_1 &\\sim \\operatorname{Normal}(85, \\sqrt{30})\\\\\n",
    "a_2 &\\sim \\operatorname{Normal}(2, \\sqrt{7.5})\\\\\n",
    "a_3 &\\sim \\operatorname{Normal}(-0.1, \\sqrt{7.5})\\\\\n",
    "\\sigma &\\sim \\operatorname{HalfFlat}\n",
    "\\end{align}\n",
    "$$"
   ]
  },
  {
   "cell_type": "markdown",
   "id": "f403d106-1acc-4a2a-a1b9-14777990d4ad",
   "metadata": {},
   "source": [
    "> $\\sigma$ is the most unclear part of the paper. \n",
    "> \n",
    "> Authors used MPLUS library whith the following [docs](https://www.rensvandeschoot.com/regression-in-mplus-bayesian/)\n",
    "> Which advertises $\\sigma \\sim \\operatorname{I-Gamma}(-1, 0)$.\n",
    "> \n",
    "> This is HalfFlat distribution (the most obscure choice)"
   ]
  },
  {
   "cell_type": "markdown",
   "id": "10901377-029d-4e99-9e5b-f041d55838ff",
   "metadata": {},
   "source": [
    "#### Adding Groups\n",
    "Groups are added in a very simplistic way\n",
    "\n",
    "$$\n",
    "\\begin{align}\n",
    "\\text{SOPT}^g_t &\\sim \\operatorname{Normal}(a^g_1 + a^g_2 * t + a_3 * t ^ 2, \\sigma)\\\\\n",
    "a^g_1 &\\sim \\operatorname{Normal}(85, \\sqrt{30})\\\\\n",
    "a^g_2 &\\sim \\operatorname{Normal}(2, \\sqrt{7.5})\\\\\n",
    "a_3 &\\sim \\operatorname{Normal}(-0.1, \\sqrt{7.5})\\\\\n",
    "a^0_2 - a^1_2 &\\sim \\operatorname{Normal}(0, 10)\\\\\n",
    "\\sigma &\\sim \\operatorname{HalfFlat}\n",
    "\\end{align}\n",
    "$$"
   ]
  },
  {
   "cell_type": "markdown",
   "id": "6db2476d-1817-4cb4-a236-521659e629f1",
   "metadata": {},
   "source": [
    "##### Potential Trick"
   ]
  },
  {
   "cell_type": "markdown",
   "id": "aaa7cb4a-fe81-4b32-92d6-40a673f81ea0",
   "metadata": {},
   "source": [
    "You can see a non standard interaction\n",
    "$$\n",
    "a^0_2 - a^1_2 \\sim \\operatorname{Normal}(0, 10)\n",
    "$$\n",
    "With PyMC this can be incorporated into the model with a Potential."
   ]
  },
  {
   "cell_type": "code",
   "execution_count": null,
   "id": "0ca08fc9-a17c-4499-9f57-18a991050a54",
   "metadata": {},
   "outputs": [],
   "source": [
    "long_data.head()"
   ]
  },
  {
   "cell_type": "code",
   "execution_count": null,
   "id": "a2ef23ce-da14-44af-99b5-9d792993dbe6",
   "metadata": {},
   "outputs": [],
   "source": [
    "import itertools\n",
    "with pm.Model(coords=dict(cudit=[\"light\", \"heavy\"], period=range(4))) as model:\n",
    "    # a1 and a2 priors are simple\n",
    "    # dims=\"cudit\" will notify the model to add extra dims\n",
    "    a1 = ...\n",
    "    # coordinates help in visualizations\n",
    "    a2 = ...\n",
    "    \n",
    "    # shared quadratic term\n",
    "    a3 = ...\n",
    "    \n",
    "    # Half Flat sigma (improper prior)\n",
    "    σ = ...\n",
    "    # creating a matrix with items (cudit x period)\n",
    "    # a^g_1 + a^g_2 * t + a_3 * t ^ 2\n",
    "    sopt = (\n",
    "        ...\n",
    "    )\n",
    "    \n",
    "    # you can use numpy indexing to get an estimate for each observation obs_{itc}\n",
    "    \n",
    "    observed = ..."
   ]
  },
  {
   "cell_type": "code",
   "execution_count": null,
   "id": "bb8c8f73-fb61-40b3-9084-54ed3ec04e97",
   "metadata": {},
   "outputs": [],
   "source": [
    "with model:\n",
    "    trace = pm.sample()"
   ]
  },
  {
   "cell_type": "markdown",
   "id": "3980bc95-03af-47b5-bd69-fc89faeb8a77",
   "metadata": {},
   "source": [
    "## Working with a posterior using xarray"
   ]
  },
  {
   "cell_type": "code",
   "execution_count": null,
   "id": "2e1b8573-8186-4154-b3f7-7680247ebcd0",
   "metadata": {},
   "outputs": [],
   "source": [
    "import xarray as xa"
   ]
  },
  {
   "cell_type": "code",
   "execution_count": null,
   "id": "20945136-1a4d-498d-af53-f2c0d6e3a9bb",
   "metadata": {},
   "outputs": [],
   "source": [
    "time = xa.DataArray(np.arange(4), dims=\"time\", name=\"time\")"
   ]
  },
  {
   "cell_type": "code",
   "execution_count": null,
   "id": "bd3fa3bb-a5fc-48d1-b471-fc45bb9879a5",
   "metadata": {},
   "outputs": [],
   "source": [
    "sns.boxplot(x=\"time\", y=\"y\", hue=\"cudit\", data=df.reset_index());"
   ]
  }
 ],
 "metadata": {
  "kernelspec": {
   "display_name": "bayes-econ",
   "language": "python",
   "name": "bayes-econ"
  },
  "language_info": {
   "codemirror_mode": {
    "name": "ipython",
    "version": 3
   },
   "file_extension": ".py",
   "mimetype": "text/x-python",
   "name": "python",
   "nbconvert_exporter": "python",
   "pygments_lexer": "ipython3",
   "version": "3.10.5"
  }
 },
 "nbformat": 4,
 "nbformat_minor": 5
}
